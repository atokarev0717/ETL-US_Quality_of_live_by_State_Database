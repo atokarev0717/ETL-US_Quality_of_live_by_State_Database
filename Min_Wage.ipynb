{
 "cells": [
  {
   "cell_type": "markdown",
   "id": "hawaiian-scholar",
   "metadata": {},
   "source": [
    "Extract Source: Minimum Wage Data \n",
    "https://www.kaggle.com/lislejoem/us-minimum-wage-by-state-from-1968-to-2017 "
   ]
  },
  {
   "cell_type": "code",
   "execution_count": 1,
   "id": "affected-donor",
   "metadata": {},
   "outputs": [],
   "source": [
    "import pandas as pd"
   ]
  },
  {
   "cell_type": "code",
   "execution_count": 2,
   "id": "charming-brooklyn",
   "metadata": {},
   "outputs": [],
   "source": [
    "# Path\n",
    "min_wage_df = \"Minimum Wage Data.csv\""
   ]
  },
  {
   "cell_type": "code",
   "execution_count": 4,
   "id": "opponent-receipt",
   "metadata": {},
   "outputs": [
    {
     "data": {
      "text/html": [
       "<div>\n",
       "<style scoped>\n",
       "    .dataframe tbody tr th:only-of-type {\n",
       "        vertical-align: middle;\n",
       "    }\n",
       "\n",
       "    .dataframe tbody tr th {\n",
       "        vertical-align: top;\n",
       "    }\n",
       "\n",
       "    .dataframe thead th {\n",
       "        text-align: right;\n",
       "    }\n",
       "</style>\n",
       "<table border=\"1\" class=\"dataframe\">\n",
       "  <thead>\n",
       "    <tr style=\"text-align: right;\">\n",
       "      <th></th>\n",
       "      <th>State</th>\n",
       "      <th>State Min. Wage</th>\n",
       "    </tr>\n",
       "    <tr>\n",
       "      <th>Year</th>\n",
       "      <th></th>\n",
       "      <th></th>\n",
       "    </tr>\n",
       "  </thead>\n",
       "  <tbody>\n",
       "    <tr>\n",
       "      <th>1968</th>\n",
       "      <td>Alabama</td>\n",
       "      <td>8.55</td>\n",
       "    </tr>\n",
       "    <tr>\n",
       "      <th>1968</th>\n",
       "      <td>Alaska</td>\n",
       "      <td>15.61</td>\n",
       "    </tr>\n",
       "    <tr>\n",
       "      <th>1968</th>\n",
       "      <td>Arizona</td>\n",
       "      <td>8.55</td>\n",
       "    </tr>\n",
       "    <tr>\n",
       "      <th>1968</th>\n",
       "      <td>Arkansas</td>\n",
       "      <td>8.55</td>\n",
       "    </tr>\n",
       "    <tr>\n",
       "      <th>1968</th>\n",
       "      <td>California</td>\n",
       "      <td>12.26</td>\n",
       "    </tr>\n",
       "    <tr>\n",
       "      <th>...</th>\n",
       "      <td>...</td>\n",
       "      <td>...</td>\n",
       "    </tr>\n",
       "    <tr>\n",
       "      <th>2020</th>\n",
       "      <td>Virginia</td>\n",
       "      <td>7.25</td>\n",
       "    </tr>\n",
       "    <tr>\n",
       "      <th>2020</th>\n",
       "      <td>Washington</td>\n",
       "      <td>13.50</td>\n",
       "    </tr>\n",
       "    <tr>\n",
       "      <th>2020</th>\n",
       "      <td>West Virginia</td>\n",
       "      <td>8.75</td>\n",
       "    </tr>\n",
       "    <tr>\n",
       "      <th>2020</th>\n",
       "      <td>Wisconsin</td>\n",
       "      <td>7.25</td>\n",
       "    </tr>\n",
       "    <tr>\n",
       "      <th>2020</th>\n",
       "      <td>Wyoming</td>\n",
       "      <td>7.25</td>\n",
       "    </tr>\n",
       "  </tbody>\n",
       "</table>\n",
       "<p>2862 rows × 2 columns</p>\n",
       "</div>"
      ],
      "text/plain": [
       "              State  State Min. Wage\n",
       "Year                                \n",
       "1968        Alabama             8.55\n",
       "1968         Alaska            15.61\n",
       "1968        Arizona             8.55\n",
       "1968       Arkansas             8.55\n",
       "1968     California            12.26\n",
       "...             ...              ...\n",
       "2020       Virginia             7.25\n",
       "2020     Washington            13.50\n",
       "2020  West Virginia             8.75\n",
       "2020      Wisconsin             7.25\n",
       "2020        Wyoming             7.25\n",
       "\n",
       "[2862 rows x 2 columns]"
      ]
     },
     "execution_count": 4,
     "metadata": {},
     "output_type": "execute_result"
    }
   ],
   "source": [
    "# Read csv and store into Pandas DF\n",
    "min_wage_df = pd.read_csv(min_wage_df, encoding=\"ISO-8859-1\", index_col=[0])\n",
    "min_wage_df"
   ]
  },
  {
   "cell_type": "code",
   "execution_count": null,
   "id": "latest-virgin",
   "metadata": {},
   "outputs": [],
   "source": []
  }
 ],
 "metadata": {
  "kernelspec": {
   "display_name": "Python 3",
   "language": "python",
   "name": "python3"
  },
  "language_info": {
   "codemirror_mode": {
    "name": "ipython",
    "version": 3
   },
   "file_extension": ".py",
   "mimetype": "text/x-python",
   "name": "python",
   "nbconvert_exporter": "python",
   "pygments_lexer": "ipython3",
   "version": "3.8.3"
  }
 },
 "nbformat": 4,
 "nbformat_minor": 5
}
